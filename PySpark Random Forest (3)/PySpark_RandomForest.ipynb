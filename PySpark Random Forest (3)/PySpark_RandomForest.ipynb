{
  "nbformat": 4,
  "nbformat_minor": 0,
  "metadata": {
    "colab": {
      "provenance": []
    },
    "kernelspec": {
      "name": "python3",
      "display_name": "Python 3"
    },
    "language_info": {
      "name": "python"
    }
  },
  "cells": [
    {
      "cell_type": "markdown",
      "source": [
        "# Getting the necessory libraries and building a spark session"
      ],
      "metadata": {
        "id": "zisuR03414KH"
      }
    },
    {
      "cell_type": "code",
      "source": [
        "from pyspark.sql import SparkSession\n",
        "import pyspark.sql.functions as fn\n",
        "from pyspark.sql.functions import *\n",
        "from pyspark.ml.feature import VectorAssembler, OneHotEncoder, StringIndexer\n",
        "from pyspark.ml.classification import RandomForestClassifier\n",
        "from pyspark.ml.evaluation import MulticlassClassificationEvaluator\n",
        "from pyspark.ml import Pipeline"
      ],
      "metadata": {
        "id": "cj_zKenzaLD7"
      },
      "execution_count": 47,
      "outputs": []
    },
    {
      "cell_type": "code",
      "source": [
        "spark = SparkSession.builder.getOrCreate()\n",
        "sc = spark.sparkContext"
      ],
      "metadata": {
        "id": "RfxZJB39aY58"
      },
      "execution_count": 48,
      "outputs": []
    },
    {
      "cell_type": "code",
      "source": [
        "rdd = spark.read.csv('/content/drug200.csv', header=True, inferSchema= True)\n",
        "rdd.printSchema()"
      ],
      "metadata": {
        "colab": {
          "base_uri": "https://localhost:8080/"
        },
        "id": "1_HL7efUagup",
        "outputId": "f2fe4d27-cea2-46b0-90d6-e5b14a99bf73"
      },
      "execution_count": 49,
      "outputs": [
        {
          "output_type": "stream",
          "name": "stdout",
          "text": [
            "root\n",
            " |-- Age: integer (nullable = true)\n",
            " |-- Sex: string (nullable = true)\n",
            " |-- BP: string (nullable = true)\n",
            " |-- Cholesterol: string (nullable = true)\n",
            " |-- Na_to_K: double (nullable = true)\n",
            " |-- Drug: string (nullable = true)\n",
            "\n"
          ]
        }
      ]
    },
    {
      "cell_type": "markdown",
      "source": [
        "# Separate the columns based on the data types to be processed"
      ],
      "metadata": {
        "id": "eKkZiBHN2OKT"
      }
    },
    {
      "cell_type": "code",
      "source": [
        "rdd.dtypes"
      ],
      "metadata": {
        "colab": {
          "base_uri": "https://localhost:8080/"
        },
        "id": "Xslls3xhavQe",
        "outputId": "cac03010-d2ed-443a-ad78-3b553e691b6a"
      },
      "execution_count": 50,
      "outputs": [
        {
          "output_type": "execute_result",
          "data": {
            "text/plain": [
              "[('Age', 'int'),\n",
              " ('Sex', 'string'),\n",
              " ('BP', 'string'),\n",
              " ('Cholesterol', 'string'),\n",
              " ('Na_to_K', 'double'),\n",
              " ('Drug', 'string')]"
            ]
          },
          "metadata": {},
          "execution_count": 50
        }
      ]
    },
    {
      "cell_type": "code",
      "source": [
        "str_type = [f for f, t in rdd.dtypes if ((t == 'string')&(f!='Drug')) ]\n",
        "str_type"
      ],
      "metadata": {
        "colab": {
          "base_uri": "https://localhost:8080/"
        },
        "id": "hNuhCqSOazzt",
        "outputId": "b18397bf-c1bf-46d1-dccd-c911ba767c7a"
      },
      "execution_count": 51,
      "outputs": [
        {
          "output_type": "execute_result",
          "data": {
            "text/plain": [
              "['Sex', 'BP', 'Cholesterol']"
            ]
          },
          "metadata": {},
          "execution_count": 51
        }
      ]
    },
    {
      "cell_type": "code",
      "source": [
        "num_type = [f for f, t in rdd.dtypes if t != 'string' ]\n",
        "num_type"
      ],
      "metadata": {
        "colab": {
          "base_uri": "https://localhost:8080/"
        },
        "id": "ECv2dgp-bLMr",
        "outputId": "4fb8c0bc-15e4-434d-a117-7b09a77924cb"
      },
      "execution_count": 52,
      "outputs": [
        {
          "output_type": "execute_result",
          "data": {
            "text/plain": [
              "['Age', 'Na_to_K']"
            ]
          },
          "metadata": {},
          "execution_count": 52
        }
      ]
    },
    {
      "cell_type": "code",
      "source": [
        "str_index = [f+'_index' for f in str_type]\n",
        "str_ohe = [f+'_ohe' for f in str_type]\n",
        "all_data = num_type + str_ohe"
      ],
      "metadata": {
        "id": "Ynlu8yLhb2UP"
      },
      "execution_count": 53,
      "outputs": []
    },
    {
      "cell_type": "markdown",
      "source": [
        "# Encode the Drug column as it is the target variable"
      ],
      "metadata": {
        "id": "-3LO7FYJ2rO0"
      }
    },
    {
      "cell_type": "code",
      "source": [
        "drug_indexer = StringIndexer(inputCol=\"Drug\", outputCol=\"Drug_index\")"
      ],
      "metadata": {
        "id": "JAgDlDMHd70G"
      },
      "execution_count": 54,
      "outputs": []
    },
    {
      "cell_type": "code",
      "source": [
        "rdd1 = drug_indexer.fit(rdd).transform(rdd)"
      ],
      "metadata": {
        "id": "3Oe-FQyU2iMg"
      },
      "execution_count": 55,
      "outputs": []
    },
    {
      "cell_type": "markdown",
      "source": [
        "# Split the data and build a pipeline of transformations"
      ],
      "metadata": {
        "id": "s1ffoyGN21FO"
      }
    },
    {
      "cell_type": "code",
      "source": [
        "train, test = rdd1.randomSplit([0.8,0.2])"
      ],
      "metadata": {
        "id": "4UTW7CLFeo05"
      },
      "execution_count": 56,
      "outputs": []
    },
    {
      "cell_type": "code",
      "source": [
        "indexer = StringIndexer(inputCols=str_type, outputCols=str_index)\n",
        "ohe = OneHotEncoder(inputCols=str_index, outputCols=str_ohe)\n",
        "vas = VectorAssembler(inputCols=all_data, outputCol='features')\n",
        "rf = RandomForestClassifier(featuresCol='features', labelCol='Drug_index', predictionCol='prediction')"
      ],
      "metadata": {
        "id": "-Sj1YuswbXE-"
      },
      "execution_count": 57,
      "outputs": []
    },
    {
      "cell_type": "code",
      "source": [
        "pipeline = Pipeline(stages=[indexer,ohe,vas,rf])"
      ],
      "metadata": {
        "id": "eCPZmasAcmCv"
      },
      "execution_count": 58,
      "outputs": []
    },
    {
      "cell_type": "code",
      "source": [
        "model = pipeline.fit(train)"
      ],
      "metadata": {
        "id": "HOOqjv3MdgEh"
      },
      "execution_count": 59,
      "outputs": []
    },
    {
      "cell_type": "markdown",
      "source": [
        "# Evaluate the model on the test data"
      ],
      "metadata": {
        "id": "UHHfPIUu3EGL"
      }
    },
    {
      "cell_type": "code",
      "source": [
        "pred = model.transform(test)"
      ],
      "metadata": {
        "id": "cLUqvMOAetPR"
      },
      "execution_count": 60,
      "outputs": []
    },
    {
      "cell_type": "code",
      "source": [
        "pred.select('Drug','Drug_index','prediction').show()"
      ],
      "metadata": {
        "colab": {
          "base_uri": "https://localhost:8080/"
        },
        "id": "6PmV_x1Ze0hl",
        "outputId": "058dac11-3d13-4f81-b8f1-ccb171ff47cf"
      },
      "execution_count": 61,
      "outputs": [
        {
          "output_type": "stream",
          "name": "stdout",
          "text": [
            "+-----+----------+----------+\n",
            "| Drug|Drug_index|prediction|\n",
            "+-----+----------+----------+\n",
            "|DrugY|       0.0|       0.0|\n",
            "|drugX|       1.0|       1.0|\n",
            "|DrugY|       0.0|       0.0|\n",
            "|DrugY|       0.0|       0.0|\n",
            "|drugA|       2.0|       2.0|\n",
            "|DrugY|       0.0|       0.0|\n",
            "|DrugY|       0.0|       0.0|\n",
            "|drugA|       2.0|       2.0|\n",
            "|drugC|       4.0|       0.0|\n",
            "|DrugY|       0.0|       0.0|\n",
            "|DrugY|       0.0|       0.0|\n",
            "|DrugY|       0.0|       0.0|\n",
            "|DrugY|       0.0|       0.0|\n",
            "|drugX|       1.0|       1.0|\n",
            "|drugA|       2.0|       2.0|\n",
            "|drugX|       1.0|       1.0|\n",
            "|DrugY|       0.0|       0.0|\n",
            "|drugA|       2.0|       2.0|\n",
            "|drugC|       4.0|       4.0|\n",
            "|drugX|       1.0|       1.0|\n",
            "+-----+----------+----------+\n",
            "only showing top 20 rows\n",
            "\n"
          ]
        }
      ]
    },
    {
      "cell_type": "code",
      "source": [
        "eval = MulticlassClassificationEvaluator(labelCol='Drug_index', predictionCol='prediction', metricName='accuracy')\n",
        "eval.evaluate(pred)"
      ],
      "metadata": {
        "colab": {
          "base_uri": "https://localhost:8080/"
        },
        "id": "OFxENYmdfGN_",
        "outputId": "802dca15-46f6-4698-bcc9-a3ad75532613"
      },
      "execution_count": 62,
      "outputs": [
        {
          "output_type": "execute_result",
          "data": {
            "text/plain": [
              "0.9714285714285714"
            ]
          },
          "metadata": {},
          "execution_count": 62
        }
      ]
    },
    {
      "cell_type": "markdown",
      "source": [
        "# Save the model on your machine"
      ],
      "metadata": {
        "id": "OuR0bm2X3hm_"
      }
    },
    {
      "cell_type": "code",
      "source": [
        "model.write().overwrite().save('rf_pyspark')"
      ],
      "metadata": {
        "id": "Phl9mcvE3nTo"
      },
      "execution_count": 63,
      "outputs": []
    },
    {
      "cell_type": "code",
      "source": [
        "!zip -r rf_pyspark.zip rf_pyspark\n",
        "from google.colab import files\n",
        "files.download('rf_pyspark.zip')"
      ],
      "metadata": {
        "id": "S87Oxor-5sjy",
        "outputId": "80af2d5e-33fe-4661-bb97-52d131262cc5",
        "colab": {
          "base_uri": "https://localhost:8080/",
          "height": 963
        }
      },
      "execution_count": 69,
      "outputs": [
        {
          "output_type": "stream",
          "name": "stdout",
          "text": [
            "updating: rf_pyspark/ (stored 0%)\n",
            "updating: rf_pyspark/stages/ (stored 0%)\n",
            "updating: rf_pyspark/stages/3_RandomForestClassifier_226e036b61c1/ (stored 0%)\n",
            "updating: rf_pyspark/stages/3_RandomForestClassifier_226e036b61c1/data/ (stored 0%)\n",
            "updating: rf_pyspark/stages/3_RandomForestClassifier_226e036b61c1/data/._SUCCESS.crc (stored 0%)\n",
            "updating: rf_pyspark/stages/3_RandomForestClassifier_226e036b61c1/data/_SUCCESS (stored 0%)\n",
            "updating: rf_pyspark/stages/3_RandomForestClassifier_226e036b61c1/data/.part-00000-f8087799-27f1-439f-9a62-b2f2f1f986f6-c000.snappy.parquet.crc (stored 0%)\n",
            "updating: rf_pyspark/stages/3_RandomForestClassifier_226e036b61c1/data/part-00000-f8087799-27f1-439f-9a62-b2f2f1f986f6-c000.snappy.parquet (deflated 32%)\n",
            "updating: rf_pyspark/stages/3_RandomForestClassifier_226e036b61c1/treesMetadata/ (stored 0%)\n",
            "updating: rf_pyspark/stages/3_RandomForestClassifier_226e036b61c1/treesMetadata/._SUCCESS.crc (stored 0%)\n",
            "updating: rf_pyspark/stages/3_RandomForestClassifier_226e036b61c1/treesMetadata/.part-00000-7f9fce47-a6cf-4d00-9caa-ef857dda37cb-c000.snappy.parquet.crc (stored 0%)\n",
            "updating: rf_pyspark/stages/3_RandomForestClassifier_226e036b61c1/treesMetadata/part-00000-7f9fce47-a6cf-4d00-9caa-ef857dda37cb-c000.snappy.parquet (deflated 40%)\n",
            "updating: rf_pyspark/stages/3_RandomForestClassifier_226e036b61c1/treesMetadata/_SUCCESS (stored 0%)\n",
            "updating: rf_pyspark/stages/3_RandomForestClassifier_226e036b61c1/metadata/ (stored 0%)\n",
            "updating: rf_pyspark/stages/3_RandomForestClassifier_226e036b61c1/metadata/._SUCCESS.crc (stored 0%)\n",
            "updating: rf_pyspark/stages/3_RandomForestClassifier_226e036b61c1/metadata/.part-00000.crc (stored 0%)\n",
            "updating: rf_pyspark/stages/3_RandomForestClassifier_226e036b61c1/metadata/part-00000 (deflated 46%)\n",
            "updating: rf_pyspark/stages/3_RandomForestClassifier_226e036b61c1/metadata/_SUCCESS (stored 0%)\n",
            "updating: rf_pyspark/stages/1_OneHotEncoder_d663f1d3d7f0/ (stored 0%)\n",
            "updating: rf_pyspark/stages/1_OneHotEncoder_d663f1d3d7f0/data/ (stored 0%)\n",
            "updating: rf_pyspark/stages/1_OneHotEncoder_d663f1d3d7f0/data/._SUCCESS.crc (stored 0%)\n",
            "updating: rf_pyspark/stages/1_OneHotEncoder_d663f1d3d7f0/data/part-00000-f5b95d2a-c657-414f-873d-1367f041d0a0-c000.snappy.parquet (deflated 28%)\n",
            "updating: rf_pyspark/stages/1_OneHotEncoder_d663f1d3d7f0/data/_SUCCESS (stored 0%)\n",
            "updating: rf_pyspark/stages/1_OneHotEncoder_d663f1d3d7f0/data/.part-00000-f5b95d2a-c657-414f-873d-1367f041d0a0-c000.snappy.parquet.crc (stored 0%)\n",
            "updating: rf_pyspark/stages/1_OneHotEncoder_d663f1d3d7f0/metadata/ (stored 0%)\n",
            "updating: rf_pyspark/stages/1_OneHotEncoder_d663f1d3d7f0/metadata/._SUCCESS.crc (stored 0%)\n",
            "updating: rf_pyspark/stages/1_OneHotEncoder_d663f1d3d7f0/metadata/.part-00000.crc (stored 0%)\n",
            "updating: rf_pyspark/stages/1_OneHotEncoder_d663f1d3d7f0/metadata/part-00000 (deflated 39%)\n",
            "updating: rf_pyspark/stages/1_OneHotEncoder_d663f1d3d7f0/metadata/_SUCCESS (stored 0%)\n",
            "updating: rf_pyspark/stages/0_StringIndexer_198465a4a767/ (stored 0%)\n",
            "updating: rf_pyspark/stages/0_StringIndexer_198465a4a767/data/ (stored 0%)\n",
            "updating: rf_pyspark/stages/0_StringIndexer_198465a4a767/data/._SUCCESS.crc (stored 0%)\n",
            "updating: rf_pyspark/stages/0_StringIndexer_198465a4a767/data/.part-00000-88d8a565-38b4-45e1-88db-97cc53381db7-c000.snappy.parquet.crc (stored 0%)\n",
            "updating: rf_pyspark/stages/0_StringIndexer_198465a4a767/data/_SUCCESS (stored 0%)\n",
            "updating: rf_pyspark/stages/0_StringIndexer_198465a4a767/data/part-00000-88d8a565-38b4-45e1-88db-97cc53381db7-c000.snappy.parquet (deflated 33%)\n",
            "updating: rf_pyspark/stages/0_StringIndexer_198465a4a767/metadata/ (stored 0%)\n",
            "updating: rf_pyspark/stages/0_StringIndexer_198465a4a767/metadata/._SUCCESS.crc (stored 0%)\n",
            "updating: rf_pyspark/stages/0_StringIndexer_198465a4a767/metadata/.part-00000.crc (stored 0%)\n",
            "updating: rf_pyspark/stages/0_StringIndexer_198465a4a767/metadata/part-00000 (deflated 38%)\n",
            "updating: rf_pyspark/stages/0_StringIndexer_198465a4a767/metadata/_SUCCESS (stored 0%)\n",
            "updating: rf_pyspark/stages/2_VectorAssembler_1af5850668d8/ (stored 0%)\n",
            "updating: rf_pyspark/stages/2_VectorAssembler_1af5850668d8/metadata/ (stored 0%)\n",
            "updating: rf_pyspark/stages/2_VectorAssembler_1af5850668d8/metadata/._SUCCESS.crc (stored 0%)\n",
            "updating: rf_pyspark/stages/2_VectorAssembler_1af5850668d8/metadata/.part-00000.crc (stored 0%)\n",
            "updating: rf_pyspark/stages/2_VectorAssembler_1af5850668d8/metadata/part-00000 (deflated 35%)\n",
            "updating: rf_pyspark/stages/2_VectorAssembler_1af5850668d8/metadata/_SUCCESS (stored 0%)\n",
            "updating: rf_pyspark/metadata/ (stored 0%)\n",
            "updating: rf_pyspark/metadata/._SUCCESS.crc (stored 0%)\n",
            "updating: rf_pyspark/metadata/.part-00000.crc (stored 0%)\n",
            "updating: rf_pyspark/metadata/part-00000 (deflated 24%)\n",
            "updating: rf_pyspark/metadata/_SUCCESS (stored 0%)\n"
          ]
        },
        {
          "output_type": "display_data",
          "data": {
            "text/plain": [
              "<IPython.core.display.Javascript object>"
            ],
            "application/javascript": [
              "\n",
              "    async function download(id, filename, size) {\n",
              "      if (!google.colab.kernel.accessAllowed) {\n",
              "        return;\n",
              "      }\n",
              "      const div = document.createElement('div');\n",
              "      const label = document.createElement('label');\n",
              "      label.textContent = `Downloading \"${filename}\": `;\n",
              "      div.appendChild(label);\n",
              "      const progress = document.createElement('progress');\n",
              "      progress.max = size;\n",
              "      div.appendChild(progress);\n",
              "      document.body.appendChild(div);\n",
              "\n",
              "      const buffers = [];\n",
              "      let downloaded = 0;\n",
              "\n",
              "      const channel = await google.colab.kernel.comms.open(id);\n",
              "      // Send a message to notify the kernel that we're ready.\n",
              "      channel.send({})\n",
              "\n",
              "      for await (const message of channel.messages) {\n",
              "        // Send a message to notify the kernel that we're ready.\n",
              "        channel.send({})\n",
              "        if (message.buffers) {\n",
              "          for (const buffer of message.buffers) {\n",
              "            buffers.push(buffer);\n",
              "            downloaded += buffer.byteLength;\n",
              "            progress.value = downloaded;\n",
              "          }\n",
              "        }\n",
              "      }\n",
              "      const blob = new Blob(buffers, {type: 'application/binary'});\n",
              "      const a = document.createElement('a');\n",
              "      a.href = window.URL.createObjectURL(blob);\n",
              "      a.download = filename;\n",
              "      div.appendChild(a);\n",
              "      a.click();\n",
              "      div.remove();\n",
              "    }\n",
              "  "
            ]
          },
          "metadata": {}
        },
        {
          "output_type": "display_data",
          "data": {
            "text/plain": [
              "<IPython.core.display.Javascript object>"
            ],
            "application/javascript": [
              "download(\"download_cdc42815-a10e-4666-a10f-395881e072a4\", \"rf_pyspark.zip\", 28153)"
            ]
          },
          "metadata": {}
        }
      ]
    },
    {
      "cell_type": "markdown",
      "source": [
        "# Get the model back"
      ],
      "metadata": {
        "id": "2epX0beD4AvD"
      }
    },
    {
      "cell_type": "code",
      "source": [
        "from pyspark.ml.pipeline import PipelineModel\n",
        "saved_model = PipelineModel.load('rf_pyspark')"
      ],
      "metadata": {
        "id": "4a8Wu_-p3x5h"
      },
      "execution_count": 64,
      "outputs": []
    },
    {
      "cell_type": "code",
      "source": [
        "pred2 = saved_model.transform(test)\n",
        "eval = MulticlassClassificationEvaluator(labelCol='Drug_index', predictionCol='prediction', metricName='accuracy')\n",
        "eval.evaluate(pred2)"
      ],
      "metadata": {
        "colab": {
          "base_uri": "https://localhost:8080/"
        },
        "id": "IwZK25Vx4D-Z",
        "outputId": "06164d2d-5313-44cf-f9aa-8c009c2a0b1e"
      },
      "execution_count": 66,
      "outputs": [
        {
          "output_type": "execute_result",
          "data": {
            "text/plain": [
              "0.9714285714285714"
            ]
          },
          "metadata": {},
          "execution_count": 66
        }
      ]
    }
  ]
}