{
  "nbformat": 4,
  "nbformat_minor": 0,
  "metadata": {
    "colab": {
      "provenance": []
    },
    "kernelspec": {
      "name": "python3",
      "display_name": "Python 3"
    },
    "language_info": {
      "name": "python"
    }
  },
  "cells": [
    {
      "cell_type": "markdown",
      "source": [
        "# Getting the necessory libraries and building a spark session"
      ],
      "metadata": {
        "id": "zisuR03414KH"
      }
    },
    {
      "cell_type": "code",
      "source": [
        "from pyspark.sql import SparkSession\n",
        "import pyspark.sql.functions as fn\n",
        "from pyspark.sql.functions import *\n",
        "from pyspark.ml.feature import VectorAssembler, OneHotEncoder, StringIndexer\n",
        "from pyspark.ml.classification import RandomForestClassifier\n",
        "from pyspark.ml.evaluation import MulticlassClassificationEvaluator\n",
        "from pyspark.ml import Pipeline"
      ],
      "metadata": {
        "id": "cj_zKenzaLD7"
      },
      "execution_count": 47,
      "outputs": []
    },
    {
      "cell_type": "code",
      "source": [
        "spark = SparkSession.builder.getOrCreate()\n",
        "sc = spark.sparkContext"
      ],
      "metadata": {
        "id": "RfxZJB39aY58"
      },
      "execution_count": 48,
      "outputs": []
    },
    {
      "cell_type": "code",
      "source": [
        "rdd = spark.read.csv('/content/drug200.csv', header=True, inferSchema= True)\n",
        "rdd.printSchema()"
      ],
      "metadata": {
        "colab": {
          "base_uri": "https://localhost:8080/"
        },
        "id": "1_HL7efUagup",
        "outputId": "f2fe4d27-cea2-46b0-90d6-e5b14a99bf73"
      },
      "execution_count": 49,
      "outputs": [
        {
          "output_type": "stream",
          "name": "stdout",
          "text": [
            "root\n",
            " |-- Age: integer (nullable = true)\n",
            " |-- Sex: string (nullable = true)\n",
            " |-- BP: string (nullable = true)\n",
            " |-- Cholesterol: string (nullable = true)\n",
            " |-- Na_to_K: double (nullable = true)\n",
            " |-- Drug: string (nullable = true)\n",
            "\n"
          ]
        }
      ]
    },
    {
      "cell_type": "markdown",
      "source": [
        "# Separate the columns based on the data types to be processed"
      ],
      "metadata": {
        "id": "eKkZiBHN2OKT"
      }
    },
    {
      "cell_type": "code",
      "source": [
        "rdd.dtypes"
      ],
      "metadata": {
        "colab": {
          "base_uri": "https://localhost:8080/"
        },
        "id": "Xslls3xhavQe",
        "outputId": "cac03010-d2ed-443a-ad78-3b553e691b6a"
      },
      "execution_count": 50,
      "outputs": [
        {
          "output_type": "execute_result",
          "data": {
            "text/plain": [
              "[('Age', 'int'),\n",
              " ('Sex', 'string'),\n",
              " ('BP', 'string'),\n",
              " ('Cholesterol', 'string'),\n",
              " ('Na_to_K', 'double'),\n",
              " ('Drug', 'string')]"
            ]
          },
          "metadata": {},
          "execution_count": 50
        }
      ]
    },
    {
      "cell_type": "code",
      "source": [
        "str_type = [f for f, t in rdd.dtypes if ((t == 'string')&(f!='Drug')) ]\n",
        "str_type"
      ],
      "metadata": {
        "colab": {
          "base_uri": "https://localhost:8080/"
        },
        "id": "hNuhCqSOazzt",
        "outputId": "b18397bf-c1bf-46d1-dccd-c911ba767c7a"
      },
      "execution_count": 51,
      "outputs": [
        {
          "output_type": "execute_result",
          "data": {
            "text/plain": [
              "['Sex', 'BP', 'Cholesterol']"
            ]
          },
          "metadata": {},
          "execution_count": 51
        }
      ]
    },
    {
      "cell_type": "code",
      "source": [
        "num_type = [f for f, t in rdd.dtypes if t != 'string' ]\n",
        "num_type"
      ],
      "metadata": {
        "colab": {
          "base_uri": "https://localhost:8080/"
        },
        "id": "ECv2dgp-bLMr",
        "outputId": "4fb8c0bc-15e4-434d-a117-7b09a77924cb"
      },
      "execution_count": 52,
      "outputs": [
        {
          "output_type": "execute_result",
          "data": {
            "text/plain": [
              "['Age', 'Na_to_K']"
            ]
          },
          "metadata": {},
          "execution_count": 52
        }
      ]
    },
    {
      "cell_type": "code",
      "source": [
        "str_index = [f+'_index' for f in str_type]\n",
        "str_ohe = [f+'_ohe' for f in str_type]\n",
        "all_data = num_type + str_ohe"
      ],
      "metadata": {
        "id": "Ynlu8yLhb2UP"
      },
      "execution_count": 53,
      "outputs": []
    },
    {
      "cell_type": "markdown",
      "source": [
        "# Encode the Drug column as it is the target variable"
      ],
      "metadata": {
        "id": "-3LO7FYJ2rO0"
      }
    },
    {
      "cell_type": "code",
      "source": [
        "drug_indexer = StringIndexer(inputCol=\"Drug\", outputCol=\"Drug_index\")"
      ],
      "metadata": {
        "id": "JAgDlDMHd70G"
      },
      "execution_count": 54,
      "outputs": []
    },
    {
      "cell_type": "code",
      "source": [
        "rdd1 = drug_indexer.fit(rdd).transform(rdd)"
      ],
      "metadata": {
        "id": "3Oe-FQyU2iMg"
      },
      "execution_count": 55,
      "outputs": []
    },
    {
      "cell_type": "markdown",
      "source": [
        "# Split the data and build a pipeline of transformations"
      ],
      "metadata": {
        "id": "s1ffoyGN21FO"
      }
    },
    {
      "cell_type": "code",
      "source": [
        "train, test = rdd1.randomSplit([0.8,0.2])"
      ],
      "metadata": {
        "id": "4UTW7CLFeo05"
      },
      "execution_count": 56,
      "outputs": []
    },
    {
      "cell_type": "code",
      "source": [
        "indexer = StringIndexer(inputCols=str_type, outputCols=str_index)\n",
        "ohe = OneHotEncoder(inputCols=str_index, outputCols=str_ohe)\n",
        "vas = VectorAssembler(inputCols=all_data, outputCol='features')\n",
        "rf = RandomForestClassifier(featuresCol='features', labelCol='Drug_index', predictionCol='prediction')"
      ],
      "metadata": {
        "id": "-Sj1YuswbXE-"
      },
      "execution_count": 57,
      "outputs": []
    },
    {
      "cell_type": "code",
      "source": [
        "pipeline = Pipeline(stages=[indexer,ohe,vas,rf])"
      ],
      "metadata": {
        "id": "eCPZmasAcmCv"
      },
      "execution_count": 58,
      "outputs": []
    },
    {
      "cell_type": "code",
      "source": [
        "model = pipeline.fit(train)"
      ],
      "metadata": {
        "id": "HOOqjv3MdgEh"
      },
      "execution_count": 59,
      "outputs": []
    },
    {
      "cell_type": "markdown",
      "source": [
        "# Evaluate the model on the test data"
      ],
      "metadata": {
        "id": "UHHfPIUu3EGL"
      }
    },
    {
      "cell_type": "code",
      "source": [
        "pred = model.transform(test)"
      ],
      "metadata": {
        "id": "cLUqvMOAetPR"
      },
      "execution_count": 60,
      "outputs": []
    },
    {
      "cell_type": "code",
      "source": [
        "pred.select('Drug','Drug_index','prediction').show()"
      ],
      "metadata": {
        "colab": {
          "base_uri": "https://localhost:8080/"
        },
        "id": "6PmV_x1Ze0hl",
        "outputId": "058dac11-3d13-4f81-b8f1-ccb171ff47cf"
      },
      "execution_count": 61,
      "outputs": [
        {
          "output_type": "stream",
          "name": "stdout",
          "text": [
            "+-----+----------+----------+\n",
            "| Drug|Drug_index|prediction|\n",
            "+-----+----------+----------+\n",
            "|DrugY|       0.0|       0.0|\n",
            "|drugX|       1.0|       1.0|\n",
            "|DrugY|       0.0|       0.0|\n",
            "|DrugY|       0.0|       0.0|\n",
            "|drugA|       2.0|       2.0|\n",
            "|DrugY|       0.0|       0.0|\n",
            "|DrugY|       0.0|       0.0|\n",
            "|drugA|       2.0|       2.0|\n",
            "|drugC|       4.0|       0.0|\n",
            "|DrugY|       0.0|       0.0|\n",
            "|DrugY|       0.0|       0.0|\n",
            "|DrugY|       0.0|       0.0|\n",
            "|DrugY|       0.0|       0.0|\n",
            "|drugX|       1.0|       1.0|\n",
            "|drugA|       2.0|       2.0|\n",
            "|drugX|       1.0|       1.0|\n",
            "|DrugY|       0.0|       0.0|\n",
            "|drugA|       2.0|       2.0|\n",
            "|drugC|       4.0|       4.0|\n",
            "|drugX|       1.0|       1.0|\n",
            "+-----+----------+----------+\n",
            "only showing top 20 rows\n",
            "\n"
          ]
        }
      ]
    },
    {
      "cell_type": "code",
      "source": [
        "eval = MulticlassClassificationEvaluator(labelCol='Drug_index', predictionCol='prediction', metricName='accuracy')\n",
        "eval.evaluate(pred)"
      ],
      "metadata": {
        "colab": {
          "base_uri": "https://localhost:8080/"
        },
        "id": "OFxENYmdfGN_",
        "outputId": "802dca15-46f6-4698-bcc9-a3ad75532613"
      },
      "execution_count": 62,
      "outputs": [
        {
          "output_type": "execute_result",
          "data": {
            "text/plain": [
              "0.9714285714285714"
            ]
          },
          "metadata": {},
          "execution_count": 62
        }
      ]
    },
    {
      "cell_type": "markdown",
      "source": [
        "# Save the model on your machine"
      ],
      "metadata": {
        "id": "OuR0bm2X3hm_"
      }
    },
    {
      "cell_type": "code",
      "source": [
        "model.write().overwrite().save('rf_pyspark')"
      ],
      "metadata": {
        "id": "Phl9mcvE3nTo"
      },
      "execution_count": 63,
      "outputs": []
    },
    {
      "cell_type": "markdown",
      "source": [
        "# Get the model back"
      ],
      "metadata": {
        "id": "2epX0beD4AvD"
      }
    },
    {
      "cell_type": "code",
      "source": [
        "from pyspark.ml.pipeline import PipelineModel\n",
        "saved_model = PipelineModel.load('rf_pyspark')"
      ],
      "metadata": {
        "id": "4a8Wu_-p3x5h"
      },
      "execution_count": 64,
      "outputs": []
    },
    {
      "cell_type": "code",
      "source": [
        "pred2 = saved_model.transform(test)\n",
        "eval = MulticlassClassificationEvaluator(labelCol='Drug_index', predictionCol='prediction', metricName='accuracy')\n",
        "eval.evaluate(pred2)"
      ],
      "metadata": {
        "colab": {
          "base_uri": "https://localhost:8080/"
        },
        "id": "IwZK25Vx4D-Z",
        "outputId": "06164d2d-5313-44cf-f9aa-8c009c2a0b1e"
      },
      "execution_count": 66,
      "outputs": [
        {
          "output_type": "execute_result",
          "data": {
            "text/plain": [
              "0.9714285714285714"
            ]
          },
          "metadata": {},
          "execution_count": 66
        }
      ]
    }
  ]
}