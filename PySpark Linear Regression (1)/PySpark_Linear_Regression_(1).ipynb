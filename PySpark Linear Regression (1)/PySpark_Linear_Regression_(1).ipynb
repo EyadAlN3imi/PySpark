{
  "nbformat": 4,
  "nbformat_minor": 0,
  "metadata": {
    "colab": {
      "provenance": []
    },
    "kernelspec": {
      "name": "python3",
      "display_name": "Python 3"
    },
    "language_info": {
      "name": "python"
    }
  },
  "cells": [
    {
      "cell_type": "code",
      "execution_count": 52,
      "metadata": {
        "id": "x-ktwWJ-TXOH"
      },
      "outputs": [],
      "source": [
        "from pyspark.sql import SparkSession\n",
        "from pyspark.ml.feature import VectorAssembler\n",
        "from pyspark.ml.regression import LinearRegression\n",
        "from pyspark.sql.functions import col,isnan, when, count\n",
        "spark = SparkSession.builder.getOrCreate()\n",
        "sc = spark.sparkContext"
      ]
    },
    {
      "cell_type": "markdown",
      "source": [
        "#Reading the the data and printing the Schema"
      ],
      "metadata": {
        "id": "jwkzAiVeeI7G"
      }
    },
    {
      "cell_type": "code",
      "source": [
        "rdd = spark.read.csv(\"test.csv\",header=True,inferSchema=True)\n",
        "rdd.printSchema()"
      ],
      "metadata": {
        "colab": {
          "base_uri": "https://localhost:8080/"
        },
        "id": "QQjjhbsLT9Lw",
        "outputId": "69846939-cf19-4246-f76d-e48721a1ab15"
      },
      "execution_count": null,
      "outputs": [
        {
          "output_type": "stream",
          "name": "stdout",
          "text": [
            "root\n",
            " |-- x: integer (nullable = true)\n",
            " |-- y: double (nullable = true)\n",
            "\n"
          ]
        }
      ]
    },
    {
      "cell_type": "markdown",
      "source": [
        "#Checking for null values"
      ],
      "metadata": {
        "id": "1Bgw2G8-eFPN"
      }
    },
    {
      "cell_type": "code",
      "source": [
        "rdd.select([count(when(~isnan(c) | col(c).isNull(), c)).alias(c) for c in rdd.columns]).show()"
      ],
      "metadata": {
        "colab": {
          "base_uri": "https://localhost:8080/"
        },
        "id": "QvtU6FigZVab",
        "outputId": "8b9fdcb8-928a-4bae-e6dd-a820ce0f0800"
      },
      "execution_count": 54,
      "outputs": [
        {
          "output_type": "stream",
          "name": "stdout",
          "text": [
            "+---+---+\n",
            "|  x|  y|\n",
            "+---+---+\n",
            "|300|300|\n",
            "+---+---+\n",
            "\n"
          ]
        }
      ]
    },
    {
      "cell_type": "markdown",
      "source": [
        "#Split that data and apply VectorAssembler to train Linear Regression model"
      ],
      "metadata": {
        "id": "bdaWMpMcei1m"
      }
    },
    {
      "cell_type": "code",
      "source": [
        "train, test = rdd.randomSplit([0.8,0.2])\n",
        "\n",
        "vas = VectorAssembler(inputCols=['x'],outputCol='features')\n",
        "train_vas = vas.transform(train).select('features','y')\n",
        "test_vas = vas.transform(test).select('features','y')"
      ],
      "metadata": {
        "id": "e5DdvE15Z8uN"
      },
      "execution_count": null,
      "outputs": []
    },
    {
      "cell_type": "code",
      "source": [
        "train_vas.show()"
      ],
      "metadata": {
        "colab": {
          "base_uri": "https://localhost:8080/"
        },
        "id": "YrRi07PfasJ_",
        "outputId": "8967b03c-1817-4a65-a02c-360b7338f80e"
      },
      "execution_count": null,
      "outputs": [
        {
          "output_type": "stream",
          "name": "stdout",
          "text": [
            "+--------+------------+\n",
            "|features|           y|\n",
            "+--------+------------+\n",
            "|   [0.0]|-3.467883789|\n",
            "|   [0.0]|-2.344738542|\n",
            "|   [0.0]|-1.040114209|\n",
            "|   [1.0]| 5.313686205|\n",
            "|   [2.0]| -1.63296825|\n",
            "|   [4.0]| 2.811415826|\n",
            "|   [4.0]| 5.607664865|\n",
            "|   [4.0]| 6.079390073|\n",
            "|   [4.0]| 7.646529763|\n",
            "|   [4.0]| 8.655714172|\n",
            "|   [5.0]| 0.676076749|\n",
            "|   [5.0]| 5.634030902|\n",
            "|   [5.0]| 8.746747654|\n",
            "|   [6.0]| 11.89457829|\n",
            "|   [7.0]| 9.281699753|\n",
            "|   [7.0]| 10.41468095|\n",
            "|   [8.0]| 9.391416798|\n",
            "|   [9.0]| 10.80462727|\n",
            "|  [11.0]| 8.673336357|\n",
            "|  [12.0]| 7.468501839|\n",
            "+--------+------------+\n",
            "only showing top 20 rows\n",
            "\n"
          ]
        }
      ]
    },
    {
      "cell_type": "markdown",
      "source": [
        "# Fit the model and predict the target column"
      ],
      "metadata": {
        "id": "72NLoNgAe6RS"
      }
    },
    {
      "cell_type": "code",
      "source": [
        "lr = LinearRegression(featuresCol='features',labelCol='y',predictionCol='prediction')\n",
        "model = lr.fit(train_vas)"
      ],
      "metadata": {
        "id": "n7ZlDme6bFDy"
      },
      "execution_count": null,
      "outputs": []
    },
    {
      "cell_type": "code",
      "source": [
        "pred = model.transform(test_vas).show()"
      ],
      "metadata": {
        "colab": {
          "base_uri": "https://localhost:8080/"
        },
        "id": "Wx2YZ6J7bgdM",
        "outputId": "5aa46ab6-d913-44fb-a9b6-a92c747a752f"
      },
      "execution_count": null,
      "outputs": [
        {
          "output_type": "stream",
          "name": "stdout",
          "text": [
            "+--------+------------+------------------+\n",
            "|features|           y|        prediction|\n",
            "+--------+------------+------------------+\n",
            "|   [1.0]|-2.761182595|0.9011896574318626|\n",
            "|   [1.0]| 0.275307261|0.9011896574318626|\n",
            "|   [2.0]|-2.819913974|1.9120423643411601|\n",
            "|   [6.0]| 2.576625376| 5.955453191978351|\n",
            "|   [8.0]| 5.405220518| 7.977158605796946|\n",
            "|  [12.0]| 12.07991648|12.020569433434137|\n",
            "|  [15.0]| 9.805234876| 15.05312755416203|\n",
            "|  [19.0]| 17.09537241|19.096538381799217|\n",
            "|  [19.0]| 21.42637785|19.096538381799217|\n",
            "|  [21.0]| 16.89085185|21.118243795617815|\n",
            "|  [23.0]| 18.31396758| 23.13994920943641|\n",
            "|  [25.0]| 30.41303282|25.161654623255004|\n",
            "|  [26.0]| 25.75612514|  26.1725073301643|\n",
            "|  [27.0]| 21.71380347|27.183360037073598|\n",
            "|  [27.0]| 26.59112396|27.183360037073598|\n",
            "|  [28.0]| 29.31770045|  28.1942127439829|\n",
            "|  [31.0]| 31.93063515| 31.22677086471079|\n",
            "|  [32.0]| 29.38505024| 32.23762357162009|\n",
            "|  [33.0]| 30.48881287| 33.24847627852939|\n",
            "|  [36.0]| 38.67780759| 36.28103439925728|\n",
            "+--------+------------+------------------+\n",
            "only showing top 20 rows\n",
            "\n"
          ]
        }
      ]
    },
    {
      "cell_type": "markdown",
      "source": [
        "# Evaluate the model performance"
      ],
      "metadata": {
        "id": "RJU0U_1FeyL7"
      }
    },
    {
      "cell_type": "code",
      "source": [
        "from pyspark.ml.evaluation import RegressionEvaluator\n",
        "\n",
        "pred = model.transform(test_vas)\n",
        "\n",
        "eval_r2 = RegressionEvaluator(labelCol=\"y\", predictionCol=\"prediction\", metricName=\"r2\")\n",
        "r2 = eval_r2.evaluate(pred)\n",
        "print(f\"R-squared (R2): {r2}\")\n",
        "\n",
        "eval_mae = RegressionEvaluator(labelCol=\"y\", predictionCol=\"prediction\", metricName=\"mae\")\n",
        "mae = eval_mae.evaluate(pred)\n",
        "print(f\"Mean Absolute Error (MAE): {mae}\")"
      ],
      "metadata": {
        "colab": {
          "base_uri": "https://localhost:8080/"
        },
        "id": "JrQ57NMpb5lx",
        "outputId": "acc55528-af99-4d8a-f534-7d636989fbcf"
      },
      "execution_count": null,
      "outputs": [
        {
          "output_type": "stream",
          "name": "stdout",
          "text": [
            "R-squared (R2): 0.9909212479462157\n",
            "Mean Absolute Error (MAE): 2.371361050748813\n"
          ]
        }
      ]
    }
  ]
}