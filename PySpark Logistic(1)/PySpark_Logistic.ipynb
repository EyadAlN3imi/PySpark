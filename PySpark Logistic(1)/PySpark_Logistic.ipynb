{
  "nbformat": 4,
  "nbformat_minor": 0,
  "metadata": {
    "colab": {
      "provenance": []
    },
    "kernelspec": {
      "name": "python3",
      "display_name": "Python 3"
    },
    "language_info": {
      "name": "python"
    }
  },
  "cells": [
    {
      "cell_type": "markdown",
      "source": [
        "# This is my first attempt to create a logistic regression model using PySpark ☺️"
      ],
      "metadata": {
        "id": "gZvq0GwYaRYB"
      }
    },
    {
      "cell_type": "code",
      "source": [
        "from pyspark.sql import SparkSession\n",
        "from pyspark.sql.functions import col,mean,mode,round,isnan\n",
        "import pandas as pd\n",
        "import numpy as np\n",
        "from pyspark.ml.feature import VectorAssembler\n",
        "from pyspark.ml.classification import LogisticRegression\n",
        "from pyspark.sql.types import StructType, StructField, StringType, IntegerType, DoubleType\n",
        "spark = SparkSession.builder.getOrCreate()\n",
        "sc = spark.sparkContext"
      ],
      "metadata": {
        "id": "rYbDKNliiMtE"
      },
      "execution_count": 104,
      "outputs": []
    },
    {
      "cell_type": "code",
      "source": [
        "rdd0 = spark.read.csv('/content/water_potability.csv',header=True,inferSchema=True)"
      ],
      "metadata": {
        "id": "lpm1TF8COgAy"
      },
      "execution_count": 102,
      "outputs": []
    },
    {
      "cell_type": "code",
      "source": [
        "rdd0.printSchema()"
      ],
      "metadata": {
        "colab": {
          "base_uri": "https://localhost:8080/"
        },
        "id": "Cvl8PvyNW3O4",
        "outputId": "22d7a273-ac2e-4fb1-f7e3-65d07866b3e8"
      },
      "execution_count": 108,
      "outputs": [
        {
          "output_type": "stream",
          "name": "stdout",
          "text": [
            "root\n",
            " |-- ph: double (nullable = true)\n",
            " |-- Hardness: double (nullable = true)\n",
            " |-- Solids: double (nullable = true)\n",
            " |-- Chloramines: double (nullable = true)\n",
            " |-- Sulfate: double (nullable = true)\n",
            " |-- Conductivity: double (nullable = true)\n",
            " |-- Organic_carbon: double (nullable = true)\n",
            " |-- Trihalomethanes: double (nullable = true)\n",
            " |-- Turbidity: double (nullable = true)\n",
            " |-- Potability: integer (nullable = true)\n",
            "\n"
          ]
        }
      ]
    },
    {
      "cell_type": "code",
      "source": [
        "for i in rdd0.columns:\n",
        "  print(f\"Column {i}: {(rdd0.filter(col(i).isNull())).count()}\")"
      ],
      "metadata": {
        "colab": {
          "base_uri": "https://localhost:8080/"
        },
        "id": "Xaa199HbWDA6",
        "outputId": "c4fc4f30-fb72-44d5-ee2a-0a7197a4199d"
      },
      "execution_count": 107,
      "outputs": [
        {
          "output_type": "stream",
          "name": "stdout",
          "text": [
            "Column ph: 491\n",
            "Column Hardness: 0\n",
            "Column Solids: 0\n",
            "Column Chloramines: 0\n",
            "Column Sulfate: 781\n",
            "Column Conductivity: 0\n",
            "Column Organic_carbon: 0\n",
            "Column Trihalomethanes: 162\n",
            "Column Turbidity: 0\n",
            "Column Potability: 0\n"
          ]
        }
      ]
    },
    {
      "cell_type": "code",
      "source": [
        "ph = rdd0.na.drop(subset=['ph']).select(mean(col('ph'))).collect()[0][0]\n",
        "sulfate = rdd0.na.drop(subset=['Sulfate']).select(mean(col('Sulfate'))).collect()[0][0]\n",
        "trihalomethanes = rdd0.na.drop(subset=['Trihalomethanes']).select(mean(col('Trihalomethanes'))).collect()[0][0]"
      ],
      "metadata": {
        "id": "CIKNTAAXXIec"
      },
      "execution_count": 119,
      "outputs": []
    },
    {
      "cell_type": "code",
      "source": [
        "rdd1 = rdd0.na.fill({'ph':ph,'Sulfate':sulfate,'Trihalomethanes':trihalomethanes})"
      ],
      "metadata": {
        "id": "kdECFetIXROe"
      },
      "execution_count": 120,
      "outputs": []
    },
    {
      "cell_type": "code",
      "source": [
        "train, test = rdd1.randomSplit([0.8,0.2],seed=42)"
      ],
      "metadata": {
        "id": "zleTGbbTYHik"
      },
      "execution_count": 125,
      "outputs": []
    },
    {
      "cell_type": "code",
      "source": [
        "from pyspark.ml.feature import VectorAssembler\n",
        "vas = VectorAssembler(inputCols=rdd1.columns[:-1],outputCol='features')"
      ],
      "metadata": {
        "id": "noVZ_kFSX3pj"
      },
      "execution_count": 126,
      "outputs": []
    },
    {
      "cell_type": "code",
      "source": [
        "train_vas = vas.transform(train)"
      ],
      "metadata": {
        "id": "31gYVtcdYF6D"
      },
      "execution_count": 128,
      "outputs": []
    },
    {
      "cell_type": "code",
      "source": [
        "from pyspark.ml.classification import LogisticRegression\n",
        "lr = LogisticRegression(featuresCol='features',labelCol='Potability',predictionCol='prediction')\n",
        "model = lr.fit(train_vas)"
      ],
      "metadata": {
        "id": "W9woODRqYdPD"
      },
      "execution_count": 129,
      "outputs": []
    },
    {
      "cell_type": "code",
      "source": [
        "test_vas = vas.transform(test)"
      ],
      "metadata": {
        "id": "OhldtQRDYzw2"
      },
      "execution_count": 130,
      "outputs": []
    },
    {
      "cell_type": "code",
      "source": [
        "pred = model.transform(test_vas)"
      ],
      "metadata": {
        "id": "yMzalrx0Y_IH"
      },
      "execution_count": 131,
      "outputs": []
    },
    {
      "cell_type": "code",
      "source": [
        "pred.select('Potability','prediction').show()"
      ],
      "metadata": {
        "colab": {
          "base_uri": "https://localhost:8080/"
        },
        "id": "WxFGtqNCZkcU",
        "outputId": "e054016c-4d60-4a92-cb90-cc3d07d25c47"
      },
      "execution_count": 139,
      "outputs": [
        {
          "output_type": "stream",
          "name": "stdout",
          "text": [
            "+----------+----------+\n",
            "|Potability|prediction|\n",
            "+----------+----------+\n",
            "|         0|       0.0|\n",
            "|         0|       0.0|\n",
            "|         0|       0.0|\n",
            "|         0|       0.0|\n",
            "|         1|       0.0|\n",
            "|         0|       0.0|\n",
            "|         0|       0.0|\n",
            "|         1|       0.0|\n",
            "|         0|       0.0|\n",
            "|         1|       0.0|\n",
            "|         0|       0.0|\n",
            "|         0|       0.0|\n",
            "|         0|       0.0|\n",
            "|         0|       0.0|\n",
            "|         0|       0.0|\n",
            "|         0|       0.0|\n",
            "|         1|       0.0|\n",
            "|         0|       0.0|\n",
            "|         0|       0.0|\n",
            "|         0|       0.0|\n",
            "+----------+----------+\n",
            "only showing top 20 rows\n",
            "\n"
          ]
        }
      ]
    }
  ]
}